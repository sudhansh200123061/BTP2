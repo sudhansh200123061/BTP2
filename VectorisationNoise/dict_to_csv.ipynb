{
 "cells": [
  {
   "cell_type": "code",
   "execution_count": 8,
   "metadata": {},
   "outputs": [],
   "source": [
    "import pandas as pd\n",
    "import json"
   ]
  },
  {
   "cell_type": "code",
   "execution_count": 9,
   "metadata": {},
   "outputs": [],
   "source": [
    "file = \"TF-IDF\""
   ]
  },
  {
   "cell_type": "code",
   "execution_count": 10,
   "metadata": {},
   "outputs": [],
   "source": [
    "f = open(\"Vectornoise(\" +file+ \").json\",'r')\n",
    "data = json.load(f)"
   ]
  },
  {
   "cell_type": "code",
   "execution_count": 11,
   "metadata": {},
   "outputs": [],
   "source": [
    "df_A = pd.DataFrame(data['Attribute']['tfidf'])\n"
   ]
  },
  {
   "cell_type": "code",
   "execution_count": 12,
   "metadata": {},
   "outputs": [
    {
     "data": {
      "text/html": [
       "<div>\n",
       "<style scoped>\n",
       "    .dataframe tbody tr th:only-of-type {\n",
       "        vertical-align: middle;\n",
       "    }\n",
       "\n",
       "    .dataframe tbody tr th {\n",
       "        vertical-align: top;\n",
       "    }\n",
       "\n",
       "    .dataframe thead th {\n",
       "        text-align: right;\n",
       "    }\n",
       "</style>\n",
       "<table border=\"1\" class=\"dataframe\">\n",
       "  <thead>\n",
       "    <tr style=\"text-align: right;\">\n",
       "      <th></th>\n",
       "      <th>Euclidean</th>\n",
       "      <th>Cosine</th>\n",
       "      <th>Jaccard</th>\n",
       "      <th>Mahalanobis</th>\n",
       "    </tr>\n",
       "  </thead>\n",
       "  <tbody>\n",
       "    <tr>\n",
       "      <th>0</th>\n",
       "      <td>0.438122</td>\n",
       "      <td>0.515578</td>\n",
       "      <td>0.499567</td>\n",
       "      <td>0.282562</td>\n",
       "    </tr>\n",
       "    <tr>\n",
       "      <th>1</th>\n",
       "      <td>0.401623</td>\n",
       "      <td>0.472696</td>\n",
       "      <td>0.457681</td>\n",
       "      <td>0.260234</td>\n",
       "    </tr>\n",
       "    <tr>\n",
       "      <th>2</th>\n",
       "      <td>0.369580</td>\n",
       "      <td>0.431934</td>\n",
       "      <td>0.421895</td>\n",
       "      <td>0.240978</td>\n",
       "    </tr>\n",
       "    <tr>\n",
       "      <th>3</th>\n",
       "      <td>0.340372</td>\n",
       "      <td>0.396127</td>\n",
       "      <td>0.385353</td>\n",
       "      <td>0.223734</td>\n",
       "    </tr>\n",
       "    <tr>\n",
       "      <th>4</th>\n",
       "      <td>0.314301</td>\n",
       "      <td>0.363804</td>\n",
       "      <td>0.355279</td>\n",
       "      <td>0.206945</td>\n",
       "    </tr>\n",
       "    <tr>\n",
       "      <th>5</th>\n",
       "      <td>0.288858</td>\n",
       "      <td>0.335720</td>\n",
       "      <td>0.328299</td>\n",
       "      <td>0.193271</td>\n",
       "    </tr>\n",
       "    <tr>\n",
       "      <th>6</th>\n",
       "      <td>0.266248</td>\n",
       "      <td>0.311077</td>\n",
       "      <td>0.300519</td>\n",
       "      <td>0.182324</td>\n",
       "    </tr>\n",
       "  </tbody>\n",
       "</table>\n",
       "</div>"
      ],
      "text/plain": [
       "   Euclidean    Cosine   Jaccard  Mahalanobis\n",
       "0   0.438122  0.515578  0.499567     0.282562\n",
       "1   0.401623  0.472696  0.457681     0.260234\n",
       "2   0.369580  0.431934  0.421895     0.240978\n",
       "3   0.340372  0.396127  0.385353     0.223734\n",
       "4   0.314301  0.363804  0.355279     0.206945\n",
       "5   0.288858  0.335720  0.328299     0.193271\n",
       "6   0.266248  0.311077  0.300519     0.182324"
      ]
     },
     "execution_count": 12,
     "metadata": {},
     "output_type": "execute_result"
    }
   ],
   "source": [
    "df_A"
   ]
  },
  {
   "cell_type": "code",
   "execution_count": 13,
   "metadata": {},
   "outputs": [
    {
     "data": {
      "text/html": [
       "<div>\n",
       "<style scoped>\n",
       "    .dataframe tbody tr th:only-of-type {\n",
       "        vertical-align: middle;\n",
       "    }\n",
       "\n",
       "    .dataframe tbody tr th {\n",
       "        vertical-align: top;\n",
       "    }\n",
       "\n",
       "    .dataframe thead th {\n",
       "        text-align: right;\n",
       "    }\n",
       "</style>\n",
       "<table border=\"1\" class=\"dataframe\">\n",
       "  <thead>\n",
       "    <tr style=\"text-align: right;\">\n",
       "      <th></th>\n",
       "      <th>Euclidean</th>\n",
       "      <th>Cosine</th>\n",
       "      <th>Jaccard</th>\n",
       "      <th>Mahalanobis</th>\n",
       "    </tr>\n",
       "  </thead>\n",
       "  <tbody>\n",
       "    <tr>\n",
       "      <th>0</th>\n",
       "      <td>0.438122</td>\n",
       "      <td>0.515578</td>\n",
       "      <td>0.499567</td>\n",
       "      <td>0.282562</td>\n",
       "    </tr>\n",
       "    <tr>\n",
       "      <th>1</th>\n",
       "      <td>0.418628</td>\n",
       "      <td>0.493877</td>\n",
       "      <td>0.492882</td>\n",
       "      <td>0.272003</td>\n",
       "    </tr>\n",
       "    <tr>\n",
       "      <th>2</th>\n",
       "      <td>0.394418</td>\n",
       "      <td>0.470511</td>\n",
       "      <td>0.483319</td>\n",
       "      <td>0.251536</td>\n",
       "    </tr>\n",
       "    <tr>\n",
       "      <th>3</th>\n",
       "      <td>0.361618</td>\n",
       "      <td>0.429576</td>\n",
       "      <td>0.466530</td>\n",
       "      <td>0.232583</td>\n",
       "    </tr>\n",
       "    <tr>\n",
       "      <th>4</th>\n",
       "      <td>0.321701</td>\n",
       "      <td>0.388317</td>\n",
       "      <td>0.451796</td>\n",
       "      <td>0.207854</td>\n",
       "    </tr>\n",
       "    <tr>\n",
       "      <th>5</th>\n",
       "      <td>0.283016</td>\n",
       "      <td>0.330896</td>\n",
       "      <td>0.425357</td>\n",
       "      <td>0.182648</td>\n",
       "    </tr>\n",
       "    <tr>\n",
       "      <th>6</th>\n",
       "      <td>0.228884</td>\n",
       "      <td>0.269753</td>\n",
       "      <td>0.385331</td>\n",
       "      <td>0.150476</td>\n",
       "    </tr>\n",
       "  </tbody>\n",
       "</table>\n",
       "</div>"
      ],
      "text/plain": [
       "   Euclidean    Cosine   Jaccard  Mahalanobis\n",
       "0   0.438122  0.515578  0.499567     0.282562\n",
       "1   0.418628  0.493877  0.492882     0.272003\n",
       "2   0.394418  0.470511  0.483319     0.251536\n",
       "3   0.361618  0.429576  0.466530     0.232583\n",
       "4   0.321701  0.388317  0.451796     0.207854\n",
       "5   0.283016  0.330896  0.425357     0.182648\n",
       "6   0.228884  0.269753  0.385331     0.150476"
      ]
     },
     "execution_count": 13,
     "metadata": {},
     "output_type": "execute_result"
    }
   ],
   "source": [
    "\n",
    "df_B = pd.DataFrame(data['Class']['tfidf'])\n",
    "df_B\n"
   ]
  },
  {
   "cell_type": "code",
   "execution_count": 14,
   "metadata": {},
   "outputs": [],
   "source": [
    "df_A.to_csv('Attribute_noise_' + file + '.csv')\n",
    "df_B.to_csv('Class_noise_' + file + '.csv')"
   ]
  }
 ],
 "metadata": {
  "kernelspec": {
   "display_name": "btp_final",
   "language": "python",
   "name": "python3"
  },
  "language_info": {
   "codemirror_mode": {
    "name": "ipython",
    "version": 3
   },
   "file_extension": ".py",
   "mimetype": "text/x-python",
   "name": "python",
   "nbconvert_exporter": "python",
   "pygments_lexer": "ipython3",
   "version": "3.11.0"
  }
 },
 "nbformat": 4,
 "nbformat_minor": 2
}
