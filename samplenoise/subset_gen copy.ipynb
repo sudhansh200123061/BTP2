{
 "cells": [
  {
   "cell_type": "code",
   "execution_count": 8,
   "metadata": {},
   "outputs": [
    {
     "name": "stderr",
     "output_type": "stream",
     "text": [
      "[nltk_data] Downloading package punkt to\n",
      "[nltk_data]     C:\\Users\\sudha\\AppData\\Roaming\\nltk_data...\n",
      "[nltk_data]   Package punkt is already up-to-date!\n"
     ]
    },
    {
     "data": {
      "text/plain": [
       "True"
      ]
     },
     "execution_count": 8,
     "metadata": {},
     "output_type": "execute_result"
    }
   ],
   "source": [
    "import pandas as pd\n",
    "import numpy as np\n",
    "import nltk\n",
    "from collections import defaultdict\n",
    "import json\n",
    "nltk.download('punkt')"
   ]
  },
  {
   "cell_type": "code",
   "execution_count": 9,
   "metadata": {},
   "outputs": [],
   "source": [
    "data = pd.read_csv('clean_data.csv')\n"
   ]
  },
  {
   "cell_type": "code",
   "execution_count": 10,
   "metadata": {},
   "outputs": [],
   "source": [
    "data = data.sort_values(by='number_label').reset_index(drop=True)"
   ]
  },
  {
   "cell_type": "code",
   "execution_count": 11,
   "metadata": {},
   "outputs": [],
   "source": [
    "def text_generator(data):\n",
    "    for doc in data:\n",
    "        yield doc\n",
    "\n",
    "def cnt(x,dict1):\n",
    "    return dict1[x]"
   ]
  },
  {
   "cell_type": "code",
   "execution_count": 12,
   "metadata": {},
   "outputs": [
    {
     "name": "stdout",
     "output_type": "stream",
     "text": [
      "Prepared  15405  documents...\n",
      "They can be accessed using texts[0] - texts[15404]\n",
      "Created a collection of 199550 terms.\n",
      "Unique terms found:  14653\n"
     ]
    }
   ],
   "source": [
    "\n",
    "final_df = data.copy()\n",
    "\n",
    "documents = text_generator(final_df['doc_text'].apply(str).tolist())\n",
    "labels = final_df['number_label']\n",
    "\n",
    "texts = [nltk.Text(nltk.word_tokenize(raw)) for raw in documents]\n",
    "\n",
    "#Empty list to hold text documents.\n",
    "documents = []\n",
    "\n",
    "# Iterate through the directory and build the collection of texts for NLTK.\n",
    "dict1 = {}\n",
    "dict1 = defaultdict(lambda: 0, dict1)\n",
    "for i, text in enumerate(texts):\n",
    "    tokens = nltk.word_tokenize(str(text))\n",
    "    stemmed_tokens = nltk.Text(tokens)\n",
    "    for x in tokens:\n",
    "        dict1[x] += 1\n",
    "    documents.append(stemmed_tokens)  # Update the texts list with the modified text\n",
    "\n",
    "print(\"Prepared \", len(documents), \" documents...\")\n",
    "print(\"They can be accessed using texts[0] - texts[\" + str(len(documents)-1) + \"]\")\n",
    "\n",
    "# Load the list of texts into a TextCollection object.\n",
    "collection = nltk.TextCollection(documents)\n",
    "print(\"Created a collection of\", len(collection), \"terms.\")\n",
    "\n",
    "# Get a list of unique terms\n",
    "unique_terms = list(set(collection))\n",
    "\n",
    "unique_terms.sort(key=lambda x: cnt(x, dict1), reverse=True)\n",
    "print(\"Unique terms found: \", len(unique_terms))\n",
    "newlist = []\n",
    "for x in collection:\n",
    "    if x in unique_terms[:300]:\n",
    "        newlist.append(x)\n",
    "vocabulary_bow = list(set(newlist))\n",
    "\n",
    "mat = []\n",
    "for f in texts:\n",
    "    ap = []\n",
    "    for a in f:\n",
    "        if a in vocabulary_bow:\n",
    "            ap.append(a)\n",
    "    mat.append(\" \".join(ap))\n",
    "dict_temp = {\n",
    "    \"doc_text\": mat,\n",
    "    \"number_label\":labels\n",
    "}\n",
    "dd = pd.DataFrame(dict_temp)\n"
   ]
  },
  {
   "cell_type": "code",
   "execution_count": 13,
   "metadata": {},
   "outputs": [
    {
     "data": {
      "text/html": [
       "<div>\n",
       "<style scoped>\n",
       "    .dataframe tbody tr th:only-of-type {\n",
       "        vertical-align: middle;\n",
       "    }\n",
       "\n",
       "    .dataframe tbody tr th {\n",
       "        vertical-align: top;\n",
       "    }\n",
       "\n",
       "    .dataframe thead th {\n",
       "        text-align: right;\n",
       "    }\n",
       "</style>\n",
       "<table border=\"1\" class=\"dataframe\">\n",
       "  <thead>\n",
       "    <tr style=\"text-align: right;\">\n",
       "      <th></th>\n",
       "      <th>doc_text</th>\n",
       "      <th>number_label</th>\n",
       "    </tr>\n",
       "  </thead>\n",
       "  <tbody>\n",
       "    <tr>\n",
       "      <th>0</th>\n",
       "      <td>archive name archive name last version address...</td>\n",
       "      <td>0</td>\n",
       "    </tr>\n",
       "    <tr>\n",
       "      <th>1</th>\n",
       "      <td>article keith write say say</td>\n",
       "      <td>0</td>\n",
       "    </tr>\n",
       "    <tr>\n",
       "      <th>2</th>\n",
       "      <td>article write article jon livesey write someth...</td>\n",
       "      <td>0</td>\n",
       "    </tr>\n",
       "    <tr>\n",
       "      <th>3</th>\n",
       "      <td>article mike write base reason actually base g...</td>\n",
       "      <td>0</td>\n",
       "    </tr>\n",
       "    <tr>\n",
       "      <th>4</th>\n",
       "      <td>article keith write jon livesey write see go s...</td>\n",
       "      <td>0</td>\n",
       "    </tr>\n",
       "    <tr>\n",
       "      <th>...</th>\n",
       "      <td>...</td>\n",
       "      <td>...</td>\n",
       "    </tr>\n",
       "    <tr>\n",
       "      <th>15400</th>\n",
       "      <td>write actually andrew sound richard clayton</td>\n",
       "      <td>19</td>\n",
       "    </tr>\n",
       "    <tr>\n",
       "      <th>15401</th>\n",
       "      <td>discussion jim jim write follow e mail point j...</td>\n",
       "      <td>19</td>\n",
       "    </tr>\n",
       "    <tr>\n",
       "      <th>15402</th>\n",
       "      <td>key long line post post first make post new po...</td>\n",
       "      <td>19</td>\n",
       "    </tr>\n",
       "    <tr>\n",
       "      <th>15403</th>\n",
       "      <td>question regard come discussion group ask ques...</td>\n",
       "      <td>19</td>\n",
       "    </tr>\n",
       "    <tr>\n",
       "      <th>15404</th>\n",
       "      <td>article bill write keith write go friend think...</td>\n",
       "      <td>19</td>\n",
       "    </tr>\n",
       "  </tbody>\n",
       "</table>\n",
       "<p>15405 rows × 2 columns</p>\n",
       "</div>"
      ],
      "text/plain": [
       "                                                doc_text  number_label\n",
       "0      archive name archive name last version address...             0\n",
       "1                            article keith write say say             0\n",
       "2      article write article jon livesey write someth...             0\n",
       "3      article mike write base reason actually base g...             0\n",
       "4      article keith write jon livesey write see go s...             0\n",
       "...                                                  ...           ...\n",
       "15400        write actually andrew sound richard clayton            19\n",
       "15401  discussion jim jim write follow e mail point j...            19\n",
       "15402  key long line post post first make post new po...            19\n",
       "15403  question regard come discussion group ask ques...            19\n",
       "15404  article bill write keith write go friend think...            19\n",
       "\n",
       "[15405 rows x 2 columns]"
      ]
     },
     "execution_count": 13,
     "metadata": {},
     "output_type": "execute_result"
    }
   ],
   "source": [
    "data = dd\n",
    "data"
   ]
  },
  {
   "cell_type": "code",
   "execution_count": 14,
   "metadata": {},
   "outputs": [],
   "source": [
    "data.to_csv('clean_data.csv')"
   ]
  }
 ],
 "metadata": {
  "kernelspec": {
   "display_name": "btp_final",
   "language": "python",
   "name": "python3"
  },
  "language_info": {
   "codemirror_mode": {
    "name": "ipython",
    "version": 3
   },
   "file_extension": ".py",
   "mimetype": "text/x-python",
   "name": "python",
   "nbconvert_exporter": "python",
   "pygments_lexer": "ipython3",
   "version": "3.11.0"
  }
 },
 "nbformat": 4,
 "nbformat_minor": 2
}
