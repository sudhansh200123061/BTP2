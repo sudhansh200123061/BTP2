{
 "cells": [
  {
   "cell_type": "code",
   "execution_count": 7,
   "metadata": {},
   "outputs": [],
   "source": [
    "import pandas as pd\n",
    "import json"
   ]
  },
  {
   "cell_type": "code",
   "execution_count": 8,
   "metadata": {},
   "outputs": [],
   "source": [
    "file = \"LSA\""
   ]
  },
  {
   "cell_type": "code",
   "execution_count": 9,
   "metadata": {},
   "outputs": [],
   "source": [
    "f = open(\"samplenoise(\" +file+ \").json\",'r')\n",
    "data = json.load(f)"
   ]
  },
  {
   "cell_type": "code",
   "execution_count": 10,
   "metadata": {},
   "outputs": [],
   "source": [
    "df_A = pd.DataFrame(data['Attribute']['LSA'])\n"
   ]
  },
  {
   "cell_type": "code",
   "execution_count": 11,
   "metadata": {},
   "outputs": [
    {
     "data": {
      "text/html": [
       "<div>\n",
       "<style scoped>\n",
       "    .dataframe tbody tr th:only-of-type {\n",
       "        vertical-align: middle;\n",
       "    }\n",
       "\n",
       "    .dataframe tbody tr th {\n",
       "        vertical-align: top;\n",
       "    }\n",
       "\n",
       "    .dataframe thead th {\n",
       "        text-align: right;\n",
       "    }\n",
       "</style>\n",
       "<table border=\"1\" class=\"dataframe\">\n",
       "  <thead>\n",
       "    <tr style=\"text-align: right;\">\n",
       "      <th></th>\n",
       "      <th>Euclidean</th>\n",
       "      <th>Cosine</th>\n",
       "      <th>Jaccard</th>\n",
       "      <th>Mahalanobis</th>\n",
       "    </tr>\n",
       "  </thead>\n",
       "  <tbody>\n",
       "    <tr>\n",
       "      <th>0</th>\n",
       "      <td>0.313936</td>\n",
       "      <td>0.316966</td>\n",
       "      <td>0.335122</td>\n",
       "      <td>0.287232</td>\n",
       "    </tr>\n",
       "    <tr>\n",
       "      <th>1</th>\n",
       "      <td>0.295001</td>\n",
       "      <td>0.303563</td>\n",
       "      <td>0.321460</td>\n",
       "      <td>0.259770</td>\n",
       "    </tr>\n",
       "    <tr>\n",
       "      <th>2</th>\n",
       "      <td>0.275032</td>\n",
       "      <td>0.288705</td>\n",
       "      <td>0.309425</td>\n",
       "      <td>0.240038</td>\n",
       "    </tr>\n",
       "    <tr>\n",
       "      <th>3</th>\n",
       "      <td>0.266357</td>\n",
       "      <td>0.284236</td>\n",
       "      <td>0.302604</td>\n",
       "      <td>0.226432</td>\n",
       "    </tr>\n",
       "    <tr>\n",
       "      <th>4</th>\n",
       "      <td>0.259298</td>\n",
       "      <td>0.275727</td>\n",
       "      <td>0.296364</td>\n",
       "      <td>0.218773</td>\n",
       "    </tr>\n",
       "    <tr>\n",
       "      <th>5</th>\n",
       "      <td>0.257417</td>\n",
       "      <td>0.277274</td>\n",
       "      <td>0.298020</td>\n",
       "      <td>0.218429</td>\n",
       "    </tr>\n",
       "    <tr>\n",
       "      <th>6</th>\n",
       "      <td>0.252213</td>\n",
       "      <td>0.271568</td>\n",
       "      <td>0.293780</td>\n",
       "      <td>0.215467</td>\n",
       "    </tr>\n",
       "  </tbody>\n",
       "</table>\n",
       "</div>"
      ],
      "text/plain": [
       "   Euclidean    Cosine   Jaccard  Mahalanobis\n",
       "0   0.313936  0.316966  0.335122     0.287232\n",
       "1   0.295001  0.303563  0.321460     0.259770\n",
       "2   0.275032  0.288705  0.309425     0.240038\n",
       "3   0.266357  0.284236  0.302604     0.226432\n",
       "4   0.259298  0.275727  0.296364     0.218773\n",
       "5   0.257417  0.277274  0.298020     0.218429\n",
       "6   0.252213  0.271568  0.293780     0.215467"
      ]
     },
     "execution_count": 11,
     "metadata": {},
     "output_type": "execute_result"
    }
   ],
   "source": [
    "df_A"
   ]
  },
  {
   "cell_type": "code",
   "execution_count": null,
   "metadata": {},
   "outputs": [],
   "source": [
    "\n"
   ]
  },
  {
   "cell_type": "code",
   "execution_count": 12,
   "metadata": {},
   "outputs": [],
   "source": [
    "df_A.to_csv('samplenoise' + file + '.csv')\n"
   ]
  }
 ],
 "metadata": {
  "kernelspec": {
   "display_name": "btp_final",
   "language": "python",
   "name": "python3"
  },
  "language_info": {
   "codemirror_mode": {
    "name": "ipython",
    "version": 3
   },
   "file_extension": ".py",
   "mimetype": "text/x-python",
   "name": "python",
   "nbconvert_exporter": "python",
   "pygments_lexer": "ipython3",
   "version": "3.11.0"
  }
 },
 "nbformat": 4,
 "nbformat_minor": 2
}
